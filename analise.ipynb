{
 "cells": [
  {
   "cell_type": "code",
   "execution_count": 23,
   "metadata": {},
   "outputs": [],
   "source": [
    "#Importar bibliotecas\n",
    "import pandas as pd\n",
    "import seaborn as sns\n",
    "import matplotlib.pyplot as plt"
   ]
  },
  {
   "cell_type": "code",
   "execution_count": 25,
   "metadata": {},
   "outputs": [],
   "source": [
    "#Novos nomes das colunas\n",
    "headers = [\"ID\", \"branch\", \"cidade\", \"tipo_cliente\", \"genero\", \"linha_de_produto\", \"preco_unitario\", \"quantidade\", \"taxa_5%\", \"total\", \"data\", \"hora\", \"forma_pagamento\", \"custo_produtos\", \"porcentagem_margem_bruta\", \"renda_bruta\", \"avaliacao\"]\n",
    "\n",
    "#Importar CSV\n",
    "df = pd.read_csv(\"supermarket_sales.csv\", names = headers, header = 0)\n"
   ]
  },
  {
   "cell_type": "code",
   "execution_count": 26,
   "metadata": {},
   "outputs": [
    {
     "data": {
      "text/html": [
       "<div>\n",
       "<style scoped>\n",
       "    .dataframe tbody tr th:only-of-type {\n",
       "        vertical-align: middle;\n",
       "    }\n",
       "\n",
       "    .dataframe tbody tr th {\n",
       "        vertical-align: top;\n",
       "    }\n",
       "\n",
       "    .dataframe thead th {\n",
       "        text-align: right;\n",
       "    }\n",
       "</style>\n",
       "<table border=\"1\" class=\"dataframe\">\n",
       "  <thead>\n",
       "    <tr style=\"text-align: right;\">\n",
       "      <th></th>\n",
       "      <th>ID</th>\n",
       "      <th>branch</th>\n",
       "      <th>cidade</th>\n",
       "      <th>tipo_cliente</th>\n",
       "      <th>genero</th>\n",
       "      <th>linha_de_produto</th>\n",
       "      <th>preco_unitario</th>\n",
       "      <th>quantidade</th>\n",
       "      <th>taxa_5%</th>\n",
       "      <th>total</th>\n",
       "      <th>data</th>\n",
       "      <th>hora</th>\n",
       "      <th>forma_pagamento</th>\n",
       "      <th>custo_produtos</th>\n",
       "      <th>porcentagem_margem_bruta</th>\n",
       "      <th>renda_bruta</th>\n",
       "      <th>avaliacao</th>\n",
       "    </tr>\n",
       "  </thead>\n",
       "  <tbody>\n",
       "    <tr>\n",
       "      <th>0</th>\n",
       "      <td>750-67-8428</td>\n",
       "      <td>A</td>\n",
       "      <td>Yangon</td>\n",
       "      <td>Member</td>\n",
       "      <td>Female</td>\n",
       "      <td>Health and beauty</td>\n",
       "      <td>74.69</td>\n",
       "      <td>7</td>\n",
       "      <td>26.1415</td>\n",
       "      <td>548.9715</td>\n",
       "      <td>1/5/2019</td>\n",
       "      <td>13:08</td>\n",
       "      <td>Ewallet</td>\n",
       "      <td>522.83</td>\n",
       "      <td>4.761905</td>\n",
       "      <td>26.1415</td>\n",
       "      <td>9.1</td>\n",
       "    </tr>\n",
       "    <tr>\n",
       "      <th>1</th>\n",
       "      <td>226-31-3081</td>\n",
       "      <td>C</td>\n",
       "      <td>Naypyitaw</td>\n",
       "      <td>Normal</td>\n",
       "      <td>Female</td>\n",
       "      <td>Electronic accessories</td>\n",
       "      <td>15.28</td>\n",
       "      <td>5</td>\n",
       "      <td>3.8200</td>\n",
       "      <td>80.2200</td>\n",
       "      <td>3/8/2019</td>\n",
       "      <td>10:29</td>\n",
       "      <td>Cash</td>\n",
       "      <td>76.40</td>\n",
       "      <td>4.761905</td>\n",
       "      <td>3.8200</td>\n",
       "      <td>9.6</td>\n",
       "    </tr>\n",
       "    <tr>\n",
       "      <th>2</th>\n",
       "      <td>631-41-3108</td>\n",
       "      <td>A</td>\n",
       "      <td>Yangon</td>\n",
       "      <td>Normal</td>\n",
       "      <td>Male</td>\n",
       "      <td>Home and lifestyle</td>\n",
       "      <td>46.33</td>\n",
       "      <td>7</td>\n",
       "      <td>16.2155</td>\n",
       "      <td>340.5255</td>\n",
       "      <td>3/3/2019</td>\n",
       "      <td>13:23</td>\n",
       "      <td>Credit card</td>\n",
       "      <td>324.31</td>\n",
       "      <td>4.761905</td>\n",
       "      <td>16.2155</td>\n",
       "      <td>7.4</td>\n",
       "    </tr>\n",
       "    <tr>\n",
       "      <th>3</th>\n",
       "      <td>123-19-1176</td>\n",
       "      <td>A</td>\n",
       "      <td>Yangon</td>\n",
       "      <td>Member</td>\n",
       "      <td>Male</td>\n",
       "      <td>Health and beauty</td>\n",
       "      <td>58.22</td>\n",
       "      <td>8</td>\n",
       "      <td>23.2880</td>\n",
       "      <td>489.0480</td>\n",
       "      <td>1/27/2019</td>\n",
       "      <td>20:33</td>\n",
       "      <td>Ewallet</td>\n",
       "      <td>465.76</td>\n",
       "      <td>4.761905</td>\n",
       "      <td>23.2880</td>\n",
       "      <td>8.4</td>\n",
       "    </tr>\n",
       "    <tr>\n",
       "      <th>4</th>\n",
       "      <td>373-73-7910</td>\n",
       "      <td>A</td>\n",
       "      <td>Yangon</td>\n",
       "      <td>Normal</td>\n",
       "      <td>Male</td>\n",
       "      <td>Sports and travel</td>\n",
       "      <td>86.31</td>\n",
       "      <td>7</td>\n",
       "      <td>30.2085</td>\n",
       "      <td>634.3785</td>\n",
       "      <td>2/8/2019</td>\n",
       "      <td>10:37</td>\n",
       "      <td>Ewallet</td>\n",
       "      <td>604.17</td>\n",
       "      <td>4.761905</td>\n",
       "      <td>30.2085</td>\n",
       "      <td>5.3</td>\n",
       "    </tr>\n",
       "  </tbody>\n",
       "</table>\n",
       "</div>"
      ],
      "text/plain": [
       "            ID branch     cidade tipo_cliente  genero        linha_de_produto  \\\n",
       "0  750-67-8428      A     Yangon       Member  Female       Health and beauty   \n",
       "1  226-31-3081      C  Naypyitaw       Normal  Female  Electronic accessories   \n",
       "2  631-41-3108      A     Yangon       Normal    Male      Home and lifestyle   \n",
       "3  123-19-1176      A     Yangon       Member    Male       Health and beauty   \n",
       "4  373-73-7910      A     Yangon       Normal    Male       Sports and travel   \n",
       "\n",
       "   preco_unitario  quantidade  taxa_5%     total       data   hora  \\\n",
       "0           74.69           7  26.1415  548.9715   1/5/2019  13:08   \n",
       "1           15.28           5   3.8200   80.2200   3/8/2019  10:29   \n",
       "2           46.33           7  16.2155  340.5255   3/3/2019  13:23   \n",
       "3           58.22           8  23.2880  489.0480  1/27/2019  20:33   \n",
       "4           86.31           7  30.2085  634.3785   2/8/2019  10:37   \n",
       "\n",
       "  forma_pagamento  custo_produtos  porcentagem_margem_bruta  renda_bruta  \\\n",
       "0         Ewallet          522.83                  4.761905      26.1415   \n",
       "1            Cash           76.40                  4.761905       3.8200   \n",
       "2     Credit card          324.31                  4.761905      16.2155   \n",
       "3         Ewallet          465.76                  4.761905      23.2880   \n",
       "4         Ewallet          604.17                  4.761905      30.2085   \n",
       "\n",
       "   avaliacao  \n",
       "0        9.1  \n",
       "1        9.6  \n",
       "2        7.4  \n",
       "3        8.4  \n",
       "4        5.3  "
      ]
     },
     "execution_count": 26,
     "metadata": {},
     "output_type": "execute_result"
    }
   ],
   "source": [
    "#Primeiras linhas do CSV\n",
    "df.head()"
   ]
  },
  {
   "cell_type": "code",
   "execution_count": 28,
   "metadata": {},
   "outputs": [
    {
     "name": "stdout",
     "output_type": "stream",
     "text": [
      "<class 'pandas.core.frame.DataFrame'>\n",
      "RangeIndex: 1000 entries, 0 to 999\n",
      "Data columns (total 17 columns):\n",
      " #   Column                    Non-Null Count  Dtype  \n",
      "---  ------                    --------------  -----  \n",
      " 0   ID                        1000 non-null   object \n",
      " 1   branch                    1000 non-null   object \n",
      " 2   cidade                    1000 non-null   object \n",
      " 3   tipo_cliente              1000 non-null   object \n",
      " 4   genero                    1000 non-null   object \n",
      " 5   linha_de_produto          1000 non-null   object \n",
      " 6   preco_unitario            1000 non-null   float64\n",
      " 7   quantidade                1000 non-null   int64  \n",
      " 8   taxa_5%                   1000 non-null   float64\n",
      " 9   total                     1000 non-null   float64\n",
      " 10  data                      1000 non-null   object \n",
      " 11  hora                      1000 non-null   object \n",
      " 12  forma_pagamento           1000 non-null   object \n",
      " 13  custo_produtos            1000 non-null   float64\n",
      " 14  porcentagem_margem_bruta  1000 non-null   float64\n",
      " 15  renda_bruta               1000 non-null   float64\n",
      " 16  avaliacao                 1000 non-null   float64\n",
      "dtypes: float64(7), int64(1), object(9)\n",
      "memory usage: 132.9+ KB\n"
     ]
    }
   ],
   "source": [
    "#Informações do dataframe\n",
    "df.info()"
   ]
  },
  {
   "cell_type": "code",
   "execution_count": 30,
   "metadata": {},
   "outputs": [
    {
     "data": {
      "text/plain": [
       "(1000, 17)"
      ]
     },
     "execution_count": 30,
     "metadata": {},
     "output_type": "execute_result"
    }
   ],
   "source": [
    "#Quantidade de linhas e colunas\n",
    "df.shape"
   ]
  },
  {
   "cell_type": "code",
   "execution_count": 36,
   "metadata": {},
   "outputs": [
    {
     "data": {
      "text/plain": [
       "ID                          0\n",
       "branch                      0\n",
       "cidade                      0\n",
       "tipo_cliente                0\n",
       "genero                      0\n",
       "linha_de_produto            0\n",
       "preco_unitario              0\n",
       "quantidade                  0\n",
       "taxa_5%                     0\n",
       "total                       0\n",
       "data                        0\n",
       "hora                        0\n",
       "forma_pagamento             0\n",
       "custo_produtos              0\n",
       "porcentagem_margem_bruta    0\n",
       "renda_bruta                 0\n",
       "avaliacao                   0\n",
       "dtype: int64"
      ]
     },
     "execution_count": 36,
     "metadata": {},
     "output_type": "execute_result"
    }
   ],
   "source": [
    "#Verificar se há NA\n",
    "df.isna().sum()"
   ]
  },
  {
   "cell_type": "code",
   "execution_count": 37,
   "metadata": {},
   "outputs": [
    {
     "data": {
      "text/plain": [
       "cidade\n",
       "Mandalay     106197.6720\n",
       "Naypyitaw    110568.7065\n",
       "Yangon       106200.3705\n",
       "Name: total, dtype: float64"
      ]
     },
     "execution_count": 37,
     "metadata": {},
     "output_type": "execute_result"
    }
   ],
   "source": [
    "#Venda por cidade\n",
    "df.groupby(\"cidade\")[\"total\"].sum()"
   ]
  },
  {
   "cell_type": "code",
   "execution_count": 38,
   "metadata": {},
   "outputs": [
    {
     "data": {
      "text/plain": [
       "cidade\n",
       "Mandalay     6.818072\n",
       "Naypyitaw    7.072866\n",
       "Yangon       7.027059\n",
       "Name: avaliacao, dtype: float64"
      ]
     },
     "execution_count": 38,
     "metadata": {},
     "output_type": "execute_result"
    }
   ],
   "source": [
    "#Média por cidade\n",
    "df.groupby(\"cidade\")[\"avaliacao\"].mean()"
   ]
  }
 ],
 "metadata": {
  "kernelspec": {
   "display_name": "Python 3.10.5 ('venv': venv)",
   "language": "python",
   "name": "python3"
  },
  "language_info": {
   "codemirror_mode": {
    "name": "ipython",
    "version": 3
   },
   "file_extension": ".py",
   "mimetype": "text/x-python",
   "name": "python",
   "nbconvert_exporter": "python",
   "pygments_lexer": "ipython3",
   "version": "3.10.5"
  },
  "orig_nbformat": 4,
  "vscode": {
   "interpreter": {
    "hash": "3fda73d89c2385b84a692470e3355b992117f19db1ddce5597244a3453a8eba2"
   }
  }
 },
 "nbformat": 4,
 "nbformat_minor": 2
}
